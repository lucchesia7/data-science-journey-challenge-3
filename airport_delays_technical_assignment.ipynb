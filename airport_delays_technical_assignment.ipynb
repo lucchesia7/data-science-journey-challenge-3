{
 "cells": [
  {
   "cell_type": "markdown",
   "id": "932b94fb",
   "metadata": {},
   "source": [
    "# Airport Delays\n",
    "\n",
    "Using the dataset named \"M1_final,\" determine if there is a way to predict delays in departure times for this airport. "
   ]
  },
  {
   "cell_type": "code",
   "execution_count": null,
   "id": "72f5fd9d",
   "metadata": {},
   "outputs": [],
   "source": []
  }
 ],
 "metadata": {
  "kernelspec": {
   "display_name": "Python 3",
   "language": "python",
   "name": "python3"
  },
  "language_info": {
   "codemirror_mode": {
    "name": "ipython",
    "version": 3
   },
   "file_extension": ".py",
   "mimetype": "text/x-python",
   "name": "python",
   "nbconvert_exporter": "python",
   "pygments_lexer": "ipython3",
   "version": "3.8.8"
  }
 },
 "nbformat": 4,
 "nbformat_minor": 5
}
